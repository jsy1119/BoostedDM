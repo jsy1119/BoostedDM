{
 "cells": [
  {
   "cell_type": "markdown",
   "metadata": {},
   "source": [
    "Number of Protons on Target\n",
    "===\n",
    "\n",
    "We are interested in comparing the number of protons on target for the atmospheric beam dump to other more conventional beam dump experiments e.g. MiniBooNE.\n",
    "\n",
    "MiniBooNE\n",
    "---\n",
    "\n",
    "From [Aguilar-Arevalo et al.](http://inspirehep.net/record/1634033), we see that for MiniBooNE, during a dedicated run of $8 \\, \\mathrm{GeV}$ protons, there were,\n",
    "\n",
    "$$N_{\\mathrm{pot}} = 1.86 \\times 10^{20}$$\n",
    "\n",
    "protons on target. (What was the run length, then can convert to $N_{\\mathrm{pot}}/\\mathrm{yr.}$?)\n",
    "\n",
    "Atmospheric Beam Dump\n",
    "---\n",
    "\n",
    "For the atmospheric beam dump, we calculate the number of interactions, per second, in the whole atmosphere as follows,\n",
    "\n",
    "$$N_{\\mathrm{pot}} \\, [\\mathrm{s}^{-1}] = \\int{\\mathrm{d}E_p \\, \\frac{\\mathrm{d}\\phi_p}{\\mathrm{d}E_p} \\sigma_{pN}(E_p) \\times \\int_{0}^{h}{\\mathrm{d}h \\, (R_E + h)^2 \\int{\\mathrm{d}\\Omega \\, n_N(h) Y_p(h)}}}$$\n",
    "\n",
    "Doing the angular integral, this is just,\n",
    "\n",
    "$$N_{\\mathrm{pot}} \\, [\\mathrm{s}^{-1}] = \\int{\\mathrm{d}E_p \\, \\frac{\\mathrm{d}\\phi_p}{\\mathrm{d}E_p} \\sigma_{pN}(E_p) \\times 2 \\pi\\int_{0}^{h}{\\mathrm{d}h \\, (R_E + h)^2 n_N(h) Y_p(h)}}$$\n",
    "\n",
    "In what follows we take $\\sigma_{pN} = 2.55 \\times 10^{-25} \\, \\mathrm{cm}^2$. We can also find the differential number of protons on target per second as,\n",
    "\n",
    "$$\\frac{\\mathrm{d}N_{\\mathrm{pot}}}{\\mathrm{d}E_p} \\, [\\mathrm{s}^{-1}] = \\frac{\\mathrm{d}\\phi_p}{\\mathrm{d}E_p} \\sigma_{pN}(E_p) \\times 2 \\pi\\int_{0}^{h}{\\mathrm{d}h \\, (R_E + h)^2 n_N(h) Y_p(h)}$$\n",
    "\n",
    "We split the calculation into two, first we calculate the effective atmospheric volume, $V_{\\mathrm{eff}}$, defined by,\n",
    "\n",
    "$$V_{\\mathrm{eff}} \\cdot n_{N}^0 \\equiv 2 \\pi\\int_{0}^{h}{\\mathrm{d}h \\, (R_E + h)^2 n_N(h) Y_p(h)}$$\n",
    "\n",
    "where $n_N^0 = 5 \\times 10^{19} \\, \\mathrm{cm}^{-3}$ is a reference number density taken to be the value at ground level. Then,\n",
    "\n",
    "$$\\frac{\\mathrm{d}N_{\\mathrm{pot}}}{\\mathrm{d}E_p} \\, [\\mathrm{s}^{-1}] = V_{\\mathrm{eff}} \\cdot n_{N}^0 \\cdot \\frac{\\mathrm{d}\\phi_p}{\\mathrm{d}E_p} \\sigma_{pN}(E_p)$$\n",
    "\n",
    "and,\n",
    "\n",
    "$$N_{\\mathrm{pot}} \\, [\\mathrm{s}^{-1}] = V_{\\mathrm{eff}} \\cdot n_{N}^0 \\cdot \\sigma_{pN} \\cdot \\int{\\mathrm{d}E_p \\, \\frac{\\mathrm{d}\\phi_p}{\\mathrm{d}E_p}}$$\n",
    "\n"
   ]
  },
  {
   "cell_type": "code",
   "execution_count": 1,
   "metadata": {},
   "outputs": [
    {
     "name": "stdout",
     "output_type": "stream",
     "text": [
      "Effective Volume: 2.0132560109335485e+23\n"
     ]
    }
   ],
   "source": [
    "import numpy as np\n",
    "import matplotlib.pyplot as plt\n",
    "import scipy\n",
    "import warnings\n",
    "warnings.filterwarnings(action='ignore')\n",
    "\n",
    "from air_density import suppression_factor, rho\n",
    "from proton_flux import dPhiPatmosdT, Tmin\n",
    "\n",
    "def Veff(rho_fun, Yp_fun, \n",
    "         nN0=5*np.power(10.0, 19), \n",
    "         RE=6371.0, \n",
    "         hmax=180.0):\n",
    "    r\"\"\"\n",
    "    Computes Veff given interpolation functions for the number density \n",
    "    and suppression factor.\n",
    "    \n",
    "    Parameters\n",
    "    ----------\n",
    "    rho_fun : function\n",
    "        function of h [km] that returns the number density \n",
    "        per cubic centimetre\n",
    "    Yp_fun  : function\n",
    "        suppression factor at a height h [km]\n",
    "    nN0     : float\n",
    "        reference number density per cubic centimetre\n",
    "    RE      : float\n",
    "        radius of the Earth [km]\n",
    "    hmax    : float\n",
    "        integration upper limit [km]\n",
    "    \n",
    "    Returns\n",
    "    -------\n",
    "    Veff    : float\n",
    "        the effective atmospheric volume in cubic centimetres\n",
    "    \"\"\"\n",
    "    def integrand_cm(h):\n",
    "        return 2 * np.pi * np.power(10.0, 5*3) * np.power(RE + h, 2.0) \\\n",
    "                    * rho_fun(h) * Yp_fun(h)\n",
    "    return (1/nN0)*scipy.integrate.quad(integrand_cm, a=0.0, b=hmax)[0]\n",
    "    \n",
    "V0 = Veff(rho, suppression_factor)\n",
    "print(\"Effective Volume: {}\".format(V0))"
   ]
  },
  {
   "cell_type": "markdown",
   "metadata": {},
   "source": [
    "Running this we find that with the reference density given above,\n",
    "\n",
    "$$V_{\\mathrm{eff}} \\simeq 2 \\times 10^{23} \\, \\mathrm{cm}^3$$\n",
    "\n",
    "We can now find the differential number of protons on target per second by multiplying by the flux,"
   ]
  },
  {
   "cell_type": "code",
   "execution_count": 2,
   "metadata": {},
   "outputs": [
    {
     "data": {
      "image/png": "[encoded data removed]",
      "text/plain": [
       "<Figure size 432x432 with 1 Axes>"
      ]
     },
     "metadata": {
      "needs_background": "light"
     },
     "output_type": "display_data"
    }
   ],
   "source": [
    "def POT_per_second_per_GeV(Ep, \n",
    "                           V0=Veff(rho, suppression_factor), \n",
    "                           n0=5*np.power(10.0, 19), \n",
    "                           sigmapN0=2.55*np.power(10.0, -25)):\n",
    "    r\"\"\"\n",
    "    Computes the number of protons on target, per GeV, per second.\n",
    "    \n",
    "    Parameters\n",
    "    ----------\n",
    "    Ep       : float\n",
    "        proton energy\n",
    "    V0       : float\n",
    "        effective atmospheric volume in cubic centimetres\n",
    "    n0       : float\n",
    "        reference number density per cubic centimetre\n",
    "    sigmapN  : float\n",
    "        approximate proton-Nitrogen cross section\n",
    "    \n",
    "    Returns\n",
    "    -------\n",
    "    POT_per_GeV : float\n",
    "        protons on target per GeV, per second\n",
    "    \"\"\"\n",
    "    return V0 * n0 * sigmapN0 * dPhiPatmosdT(Ep)\n",
    "\n",
    "T_arr = np.logspace(1, 3)\n",
    "N_arr = np.empty(len(T_arr))\n",
    "for idx, T in enumerate(T_arr):\n",
    "    N_arr[idx] = POT_per_second_per_GeV(T)\n",
    "plt.figure(figsize=(6,6))\n",
    "plt.semilogx(T_arr, N_arr, label=r'$\\mathrm{d}N_{\\mathrm{pot}}/\\mathrm{d}E_p$')\n",
    "plt.xlabel(r'$E_p \\, [\\mathrm{GeV}]$')\n",
    "plt.ylabel(r'$\\mathrm{d}N_{\\mathrm{pot}}/\\mathrm{d}E_p \\, [\\mathrm{GeV}^{-1} \\, \\mathrm{s}^{-1}]$')\n",
    "plt.legend()\n",
    "plt.show()"
   ]
  },
  {
   "cell_type": "markdown",
   "metadata": {},
   "source": [
    "Finally, we can calculate the number of protons on target, per second, and then relate this to a total number of protons on target for a given experiment."
   ]
  },
  {
   "cell_type": "code",
   "execution_count": 3,
   "metadata": {},
   "outputs": [
    {
     "name": "stdout",
     "output_type": "stream",
     "text": [
      "POT per second: 4.374195628748341e+17\n",
      "POT per year: 1.3796213013072267e+25\n",
      "POT (Xenon1T): 1.0536702404789125e+25\n",
      "POT (LZ): 4.138339000446231e+25\n"
     ]
    }
   ],
   "source": [
    "def POT_per_second(V0=Veff(rho, suppression_factor), \n",
    "                   n0=5*np.power(10.0, 19), \n",
    "                   sigmapN0=2.55*np.power(10.0, -25)):\n",
    "    return scipy.integrate.quad(POT_per_second_per_GeV, \n",
    "                                a=10.0,\n",
    "                                b=1000.0)[0]\n",
    "\n",
    "def POT_per_day():\n",
    "    return 86400.0*POT_per_second()\n",
    "\n",
    "print(\"POT per second: {}\".format(POT_per_second()))\n",
    "print(\"POT per year: {}\".format(POT_per_second()*3.154*10**7))\n",
    "print(\"POT (Xenon1T): {}\".format(POT_per_day()*278.8))\n",
    "print(\"POT (LZ): {}\".format(POT_per_day()*1095))"
   ]
  },
  {
   "cell_type": "markdown",
   "metadata": {},
   "source": [
    "So we see that the number of protons on target per year is approximately,\n",
    "\n",
    "$$N_{\\mathrm{pot}} \\, [\\mathrm{yr}^{-1}] \\simeq 1.3 \\times 10^{25}$$\n",
    "\n",
    "Of course, this is much larger than the MiniBooNE equivalent, and illustrates the fact that we lose out based on (i) the branching ratio into dark sector particles, and, (ii) the beam spreading, which is significantly less for a boosted collinear proton beam over $490\\, \\mathrm{m}$.\n",
    "\n",
    "Experiments\n",
    "---\n",
    "\n",
    "If we now consider some experiments and their exposures, we can calculate the number of protons on target for each run.\n",
    "\n",
    "| Experiment | Beam Dump | Exposure Time [days] | $N_{\\mathrm{pot}}$ | Ref. |\n",
    "| --- | --- | --- | --- | --- |\n",
    "| MiniBooNE | Conventional | TBC | $1.86 \\times 10^{20}$ | [Aguilar-Arevalo et al.](http://inspirehep.net/record/1634033) | \n",
    "| Xenon1T | Atmospheric | 278.8 | $1.05 \\times 10^{25}$ | [Aprile et al.](https://inspirehep.net/record/1675772) |\n",
    "| LZ | Atmospheric | 1095 (projected?) | $4.14 \\times 10^{25}$ | [McKinsey et al.](https://inspirehep.net/record/1664178) |"
   ]
  }
 ],
 "metadata": {
  "kernelspec": {
   "display_name": "Python 3",
   "language": "python",
   "name": "python3"
  },
  "language_info": {
   "codemirror_mode": {
    "name": "ipython",
    "version": 3
   },
   "file_extension": ".py",
   "mimetype": "text/x-python",
   "name": "python",
   "nbconvert_exporter": "python",
   "pygments_lexer": "ipython3",
   "version": "3.7.3"
  }
 },
 "nbformat": 4,
 "nbformat_minor": 2
}
